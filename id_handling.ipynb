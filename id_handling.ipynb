{
 "cells": [
  {
   "cell_type": "markdown",
   "metadata": {},
   "source": [
    "## csv file to youtube id list\n",
    "### regarding url 존재하는 324개 영상"
   ]
  },
  {
   "cell_type": "code",
   "execution_count": 42,
   "metadata": {},
   "outputs": [],
   "source": [
    "# get data with youtube url\n",
    "df = df[~df['url_yt'].isnull()]\n",
    "df = df['url_yt']"
   ]
  },
  {
   "cell_type": "code",
   "execution_count": 53,
   "metadata": {},
   "outputs": [],
   "source": [
    "url_list = []\n",
    "#get only video ids\n",
    "for i in df:\n",
    "    url_list.append(i[32:])\n",
    "\n",
    "with open('id_list.txt', 'w') as f:\n",
    "    for line in url_list:\n",
    "        f.write(f\"{line}\\n\")"
   ]
  },
  {
   "cell_type": "markdown",
   "metadata": {},
   "source": [
    "### regarding url 존재하지 않는 3552개 영상"
   ]
  },
  {
   "cell_type": "code",
   "execution_count": 3,
   "metadata": {},
   "outputs": [
    {
     "data": {
      "text/plain": [
       "[{'id': 'pVy60Ur831g',\n",
       "  'thumbnails': ['https://i.ytimg.com/vi/pVy60Ur831g/hqdefault.jpg?sqp=-oaymwEjCOADEI4CSFryq4qpAxUIARUAAAAAGAElAADIQj0AgKJDeAE=&rs=AOn4CLB_Q2fB065At7djuSmlRLdgZoOpLg'],\n",
       "  'title': '🎵 𝐂 𝐎 𝐃 𝐄  𝐊 𝐔 𝐍 𝐒 𝐓  (코드 쿤스트) [PLAYLIST] [노래 모음] 🎵',\n",
       "  'long_desc': None,\n",
       "  'channel': 'KHIPHOP',\n",
       "  'duration': '2:04:38',\n",
       "  'views': '조회수 2,035,867회',\n",
       "  'publish_time': '2년 전',\n",
       "  'url_suffix': '/watch?v=pVy60Ur831g'}]"
      ]
     },
     "execution_count": 3,
     "metadata": {},
     "output_type": "execute_result"
    }
   ],
   "source": [
    "# use YoutubeSearch library ; example\n",
    "## pip install youtube-search \n",
    "from youtube_search import YoutubeSearch\n",
    "\n",
    "results = YoutubeSearch('code kunst', max_results=1).to_dict()\n",
    "\n",
    "results"
   ]
  },
  {
   "cell_type": "code",
   "execution_count": null,
   "metadata": {},
   "outputs": [],
   "source": [
    "import pandas as pd\n",
    "# get data with youtube video title\n",
    "df = pd.read_csv('csv_file.csv', encoding='utf-8')\n",
    "df = df[df['url_yt'].isnull()]['Title']"
   ]
  },
  {
   "cell_type": "code",
   "execution_count": 52,
   "metadata": {},
   "outputs": [],
   "source": [
    "title_list = []\n",
    "\n",
    "# text preprocessing\n",
    "for i in df:\n",
    "    i = str(i).replace('repeated text',\"\")\n",
    "    i = i.replace(\"'\",\"\\'\")\n",
    "    i = i.replace('\"',\"\\\"\")\n",
    "    # append preprocessed text to list\n",
    "    title_list.append(i)"
   ]
  },
  {
   "cell_type": "code",
   "execution_count": 75,
   "metadata": {},
   "outputs": [],
   "source": [
    "from youtube_search import YoutubeSearch\n",
    "\n",
    "result = []\n",
    "# get youtube id based on video title\n",
    "for t in title_list:\n",
    "    results = YoutubeSearch(t, max_results=1).to_dict()\n",
    "    result.append(results[0]['id'])\n",
    "\n",
    "with open('id_list_1.txt', 'w') as f:\n",
    "    for line in result:\n",
    "        f.write(f\"{line}\\n\")"
   ]
  },
  {
   "cell_type": "markdown",
   "metadata": {},
   "source": [
    "## handling id txt file"
   ]
  },
  {
   "cell_type": "code",
   "execution_count": 7,
   "metadata": {},
   "outputs": [],
   "source": [
    "# concat files\n",
    "filenames = ['id_list.txt', 'id_list_1.txt']\n",
    "with open('output_path', 'w') as id_full:\n",
    "    for fname in filenames:\n",
    "        with open(fname) as infile:\n",
    "            for line in infile:\n",
    "                id_full.write(line)"
   ]
  },
  {
   "cell_type": "code",
   "execution_count": 5,
   "metadata": {},
   "outputs": [],
   "source": [
    "# split id list to 6\n",
    "lines_per_file = 646\n",
    "smallfile = None\n",
    "with open('full list txt file') as bigfile:\n",
    "    for lineno, line in enumerate(bigfile):\n",
    "        if lineno % lines_per_file == 0:\n",
    "            if smallfile:\n",
    "                smallfile.close()\n",
    "            small_filename = f'small file path'\n",
    "            smallfile = open(small_filename, \"w\")\n",
    "        smallfile.write(line)\n",
    "    if smallfile:\n",
    "        smallfile.close()"
   ]
  },
  {
   "cell_type": "code",
   "execution_count": null,
   "metadata": {},
   "outputs": [],
   "source": []
  }
 ],
 "metadata": {
  "kernelspec": {
   "display_name": "Python 3.9.12 ('base')",
   "language": "python",
   "name": "python3"
  },
  "language_info": {
   "codemirror_mode": {
    "name": "ipython",
    "version": 3
   },
   "file_extension": ".py",
   "mimetype": "text/x-python",
   "name": "python",
   "nbconvert_exporter": "python",
   "pygments_lexer": "ipython3",
   "version": "3.9.12"
  },
  "orig_nbformat": 4,
  "vscode": {
   "interpreter": {
    "hash": "555fd2af09ecad53e902f9f841b8dc0c34cdebaa624370c5de6e796f8cf6171a"
   }
  }
 },
 "nbformat": 4,
 "nbformat_minor": 2
}
