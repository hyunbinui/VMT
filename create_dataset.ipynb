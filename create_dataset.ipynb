{
 "cells": [
  {
   "cell_type": "code",
   "execution_count": 1,
   "metadata": {},
   "outputs": [
    {
     "name": "stdout",
     "output_type": "stream",
     "text": [
      "['03gIhCcfkVk', 'Fg3O-0Y_NNY', '783RIJ4h5QQ', 'RBnJ1TEV7mA', 'NUbBj9FGRvY', 'dnzT3YtxpDg', 'VSNmHGk24FE', 'DxwXezpkV3k', 'Z87nv0p_PG4', 'FiM35-aP9N0', 's82f8_P12RA', 'Omy5bkCOr9M', 'ZBc2OaUQfhc', 'HKzeGI-hutY', 'XhAQY15Lk4k', 'wfx-GhG6UlE', '8HAkfhkwmhw', '9C73IWZIbgo', 'uj7jdYMrDSA', 'sj2wLB1fci8']\n"
     ]
    }
   ],
   "source": [
    "# list of video ids (that we got from playlist) \n",
    "id_list = open(\"list.txt\", \"r\")\n",
    "  \n",
    "# read list.txt file\n",
    "id = id_list.read()\n",
    "\n",
    "# split the data\n",
    "id_to_list = id.replace('\\n', ',').split(\",\")\n",
    "\n",
    "# remove empty elements\n",
    "for id in id_to_list:\n",
    "    if len(id) == 0:\n",
    "        id_to_list.remove(id)\n",
    "\n",
    "print(id_to_list)\n",
    "\n",
    "id_list.close()"
   ]
  },
  {
   "cell_type": "code",
   "execution_count": 5,
   "metadata": {},
   "outputs": [],
   "source": [
    "# for demo \n",
    "id_to_list = ['03gIhCcfkVk', 'Fg3O-0Y_NNY']"
   ]
  },
  {
   "cell_type": "code",
   "execution_count": 6,
   "metadata": {},
   "outputs": [
    {
     "name": "stdout",
     "output_type": "stream",
     "text": [
      "['03gIhCcfkVk', 'Fg3O-0Y_NNY']\n"
     ]
    }
   ],
   "source": [
    "import webvtt\n",
    "from pathlib import Path\n",
    "\n",
    "path = \n",
    "\n",
    "# remove ids that do not contain ko or en sub \n",
    "rmv = []\n",
    "for i in id_to_list:\n",
    "    if (os.path.isfile(path+i+'.ko.vtt') == False or os.path.isfile(path+i+'.en.vtt') == False):\n",
    "        rmv.append(i)\n",
    "\n",
    "id_to_list = [e for e in id_to_list if e not in rmv]\n",
    "\n",
    "print(id_to_list)"
   ]
  },
  {
   "cell_type": "code",
   "execution_count": 7,
   "metadata": {},
   "outputs": [],
   "source": [
    "#get necessary info from vtt file + append them in list\n",
    "full = []\n",
    "text = []\n",
    "\n",
    "path = \n",
    "\n",
    "for i in id_to_list:\n",
    "    mid = []\n",
    "    #read ko sub file\n",
    "    for caption in webvtt.read(path+i+'.ko.vtt'):\n",
    "        #if the text requires preprocessing\n",
    "        caption.text=caption.text.strip().replace('\\n', ' ')\n",
    "        caption.text=caption.text.replace('-', '')\n",
    "        caption.text=caption.text.replace('- ', '')\n",
    "\n",
    "        time_text_list=[]\n",
    "        time_text_list.append(caption.start[:-4])\n",
    "        time_text_list.append(caption.end[:-4])\n",
    "        time_text_list.append(caption.text)\n",
    "        mid.append(time_text_list)\n",
    "    full.append(mid)\n",
    "\n",
    "\n",
    "    mid1 = []\n",
    "    #read en sub file\n",
    "    for caption1 in webvtt.read(path+i+'.en.vtt'):\n",
    "        #if the text requires preprocessing\n",
    "        caption1.text=caption1.text.strip().replace('\\n', ' ')\n",
    "        caption1.text=caption1.text.replace('-', '')\n",
    "        caption1.text=caption1.text.replace('- ', '')\n",
    "\n",
    "        time_text_list1=[]\n",
    "        time_text_list1.append(caption1.start[:-4])\n",
    "        time_text_list1.append(caption1.end[:-4])\n",
    "        time_text_list1.append(caption1.text)\n",
    "        mid1.append(time_text_list1)\n",
    "    text.append(mid1)\n",
    "    \n",
    "    "
   ]
  },
  {
   "cell_type": "code",
   "execution_count": 8,
   "metadata": {},
   "outputs": [],
   "source": [
    "# youtube vtt file includes splitted sentences. Need to get them together as complete sentences.\n",
    "ko_line=[]\n",
    "en_line=[]\n",
    "time=[]\n",
    "\n",
    "\n",
    "for i in range(len(full)):\n",
    "    middle = []\n",
    "    middle1 = []\n",
    "    middle2 =[]\n",
    "\n",
    "    middle.append(full[i][0][2])\n",
    "    middle1.append(full[i][0][0]+\"~\"+full[i][0][1])\n",
    "    middle2.append(text[i][0][2])\n",
    "\n",
    "\n",
    "    for n in range(len(full[i])-1):\n",
    "        if middle[-1][-1] not in ['?',\".\",\"!\",'(',\")\", \"~\"]:\n",
    "            middle[-1] = middle[-1] + \" \" + full[i][n+1][2]\n",
    "            middle1[-1] = middle1[-1] + \"~\" + full[i][n+1][1]\n",
    "            middle2[-1] = middle2[-1] + \" \" + text[i][n+1][2]\n",
    "\n",
    "        elif middle[-1][-1] in ['?',\".\",\"!\",'(',\")\", \"~\"]:\n",
    "            middle.append(full[i][n+1][2])\n",
    "            middle1.append(full[i][n+1][0]+\"~\"+full[i][n+1][1])\n",
    "            middle2.append(text[i][n+1][2])\n",
    "\n",
    "\n",
    "    ko_line.append(middle)\n",
    "    en_line.append(middle2)\n",
    "    time.append(middle1)"
   ]
  },
  {
   "cell_type": "code",
   "execution_count": 9,
   "metadata": {},
   "outputs": [],
   "source": [
    "#concat time and sentence data\n",
    "final = []\n",
    "for i in range(len(time)):\n",
    "    mid = []\n",
    "    for t in range(len(time[i])):\n",
    "        mid2 = []\n",
    "        mid2.append(time[i][t][:8])\n",
    "        mid2.append(time[i][t][-8:])\n",
    "        mid2.append(ko_line[i][t])\n",
    "        mid2.append(en_line[i][t])\n",
    "        mid.append(mid2)\n",
    "    final.append(mid)"
   ]
  },
  {
   "cell_type": "code",
   "execution_count": 15,
   "metadata": {},
   "outputs": [],
   "source": [
    "# make video name + append it to final list\n",
    "for f in range(len(final)):\n",
    "    for u in range(len(final[f])):\n",
    "        vid_name = id_to_list[f]+\"_\"+final[f][u][0].replace(\":\",\"\")+'_'+final[f][u][1].replace(\":\",\"\")\n",
    "        final[f][u].append(vid_name)"
   ]
  },
  {
   "cell_type": "code",
   "execution_count": 26,
   "metadata": {},
   "outputs": [
    {
     "data": {
      "text/plain": [
       "[['00:00:04',\n",
       "  '00:00:08',\n",
       "  '구준영 씨는 오늘 외근인가 봐요.',\n",
       "  'I guess Goo Joonyoung is working outside today.',\n",
       "  'Fg3O-0Y_NNY_000004_000008'],\n",
       " ['00:00:08',\n",
       "  '00:00:12',\n",
       "  '오늘 권 PD님 그날이라던데. 준영 씨랑 같이 갔나 보네.',\n",
       "  \"I heard today is PD Kwon's day. I guess he went with Joonyoung.\",\n",
       "  'Fg3O-0Y_NNY_000008_000012'],\n",
       " ['00:00:12', '00:00:14', '그날이요?', 'That day?', 'Fg3O-0Y_NNY_000012_000014'],\n",
       " ['00:00:14',\n",
       "  '00:00:23',\n",
       "  '권 PD님이 작가님들 요청사항을 푹 묵혀 놨다가 하루 날 잡아서 한 방에 해결하는 민원 폭탄 데이.',\n",
       "  \"Producer Kwon kept the writers' requests and set them up for a day to solve the problem in one go.\",\n",
       "  'Fg3O-0Y_NNY_000014_000023'],\n",
       " ['00:00:23',\n",
       "  '00:00:28',\n",
       "  '아... 아니, 섬네일 바꿔 달라는 게 언제인데 지금 한 달 넘게 피드백이 없어요?',\n",
       "  \"Ah... No, there's no feedback when we asked to\",\n",
       "  'Fg3O-0Y_NNY_000023_000028'],\n",
       " ['00:00:28',\n",
       "  '00:00:34',\n",
       "  '이거 아무리 봐도 이거 섬네일이 밋밋해서 조회수 안 나오는 건데.',\n",
       "  \"change the thumbnail for more than a month now? There aren't much\",\n",
       "  'Fg3O-0Y_NNY_000028_000034'],\n",
       " ['00:00:35',\n",
       "  '00:00:36',\n",
       "  '내가 나강남이나 뽐므.',\n",
       "  'Na Gangnam or Bbomm. Even if',\n",
       "  'Fg3O-0Y_NNY_000035_000036'],\n",
       " ['00:00:36',\n",
       "  '00:00:41',\n",
       "  '이런 톱 작가였어도 이렇게 피드백 늦으셨을 거예요?',\n",
       "  'you were a top writer like this, would',\n",
       "  'Fg3O-0Y_NNY_000036_000041'],\n",
       " ['00:00:42', '00:00:44', '참...', 'Man...', 'Fg3O-0Y_NNY_000042_000044'],\n",
       " ['00:00:44',\n",
       "  '00:00:49',\n",
       "  '내 웹툰 배너는 왜 이렇게 네온 메인에 잘 안 걸어줘요?',\n",
       "  \"Why don't you hang my webtoon banner on the main page?\",\n",
       "  'Fg3O-0Y_NNY_000044_000049']]"
      ]
     },
     "execution_count": 26,
     "metadata": {},
     "output_type": "execute_result"
    }
   ],
   "source": [
    "# this is what final list looks like\n",
    "final[1][:10]"
   ]
  },
  {
   "cell_type": "code",
   "execution_count": 16,
   "metadata": {},
   "outputs": [],
   "source": [
    "# create dictionary with (video id - ko sub - eng sub) pair\n",
    "Dict = {}\n",
    "for i in range(len(final)):\n",
    "     for f in final[i]:\n",
    "          Dict[f[-1]] = {}\n",
    "          Dict[f[-1]]['ko'] = f[2]\n",
    "          Dict[f[-1]]['en'] = f[3]"
   ]
  },
  {
   "cell_type": "code",
   "execution_count": 17,
   "metadata": {},
   "outputs": [],
   "source": [
    "# create json file ; data with (video ID - kor sub - eng sub) pair\n",
    "import json\n",
    "    \n",
    "with open(\"text_data.json\", \"w\", encoding='utf-8') as outfile:\n",
    "    json.dump(Dict, outfile, indent=2 , ensure_ascii=False)"
   ]
  },
  {
   "cell_type": "code",
   "execution_count": 18,
   "metadata": {},
   "outputs": [],
   "source": [
    "# pip install moviepy"
   ]
  },
  {
   "cell_type": "code",
   "execution_count": null,
   "metadata": {},
   "outputs": [],
   "source": [
    "# create video data\n",
    "from moviepy.video.io.VideoFileClip import VideoFileClip\n",
    "import os\n",
    "\n",
    "# make directory for video clips\n",
    "if not os.path.exists('./videos'):\n",
    "    os.makedirs('./videos')\n",
    "    \n",
    "# get Seconds from time.\n",
    "def get_sec(time_str):\n",
    "    h, m, s = time_str.split(':')\n",
    "    return int(h) * 3600 + int(m) * 60 + int(s)\n",
    "\n",
    "# cut the video clips based on timestamps\n",
    "for f in range(len(final)):\n",
    "    for i in range(len(final[f])):\n",
    "        input_video_path = path+id_to_list[f]+\".mp4\"\n",
    "        output_video_path = './videos/'+final[f][i][-1]+'.mp4'\n",
    "        start = final[f][i][0]\n",
    "        start = get_sec(start)\n",
    "        end = final[f][i][1]\n",
    "        end = get_sec(end)\n",
    "        # duration has to be longer than 1 sec\n",
    "        if start != end:\n",
    "            with VideoFileClip(input_video_path) as video:\n",
    "                new = video.subclip(start, end)\n",
    "                new.write_videofile(output_video_path, codec='libx264')"
   ]
  }
 ],
 "metadata": {
  "kernelspec": {
   "display_name": "Python 3.9.12 ('base')",
   "language": "python",
   "name": "python3"
  },
  "language_info": {
   "codemirror_mode": {
    "name": "ipython",
    "version": 3
   },
   "file_extension": ".py",
   "mimetype": "text/x-python",
   "name": "python",
   "nbconvert_exporter": "python",
   "pygments_lexer": "ipython3",
   "version": "3.9.12"
  },
  "orig_nbformat": 4,
  "vscode": {
   "interpreter": {
    "hash": "555fd2af09ecad53e902f9f841b8dc0c34cdebaa624370c5de6e796f8cf6171a"
   }
  }
 },
 "nbformat": 4,
 "nbformat_minor": 2
}
