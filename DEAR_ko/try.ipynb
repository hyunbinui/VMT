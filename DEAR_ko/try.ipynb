{
 "cells": [
  {
   "cell_type": "code",
   "execution_count": 8,
   "metadata": {},
   "outputs": [],
   "source": [
    "import json\n",
    "\n",
    "with open('/home/ubuntu/workspace/221122_vmt_hyunbin/DEAR/data/ko_train.json', 'r', encoding='utf-8') as file:\n",
    "    data = json.load(file)\n",
    "\n",
    "encaps = []\n",
    "for i in range(len(list(data.values()))):\n",
    "    encaps.append(list(data.values())[i]['en'])"
   ]
  },
  {
   "cell_type": "code",
   "execution_count": 9,
   "metadata": {},
   "outputs": [
    {
     "data": {
      "text/plain": [
       "75573"
      ]
     },
     "execution_count": 9,
     "metadata": {},
     "output_type": "execute_result"
    }
   ],
   "source": [
    "len(encaps)"
   ]
  },
  {
   "cell_type": "code",
   "execution_count": 1,
   "metadata": {},
   "outputs": [
    {
     "data": {
      "text/plain": [
       "(1, 8, 1024)"
      ]
     },
     "execution_count": 1,
     "metadata": {},
     "output_type": "execute_result"
    }
   ],
   "source": [
    "import numpy as np\n",
    "\n",
    "np.load('/data/VMT/extracted_features/ZAqEfrZkBfg_000033_000035.npy').shape"
   ]
  },
  {
   "cell_type": "code",
   "execution_count": 3,
   "metadata": {},
   "outputs": [
    {
     "data": {
      "text/plain": [
       "42774"
      ]
     },
     "execution_count": 3,
     "metadata": {},
     "output_type": "execute_result"
    }
   ],
   "source": [
    "len(os.listdir('/data/VMT/extracted_features/'))"
   ]
  },
  {
   "cell_type": "code",
   "execution_count": 16,
   "metadata": {},
   "outputs": [
    {
     "name": "stdout",
     "output_type": "stream",
     "text": [
      "[('057wouLGW4I_000001_000004', {'ko': '두 눈 번쩍 뜨일 제보가 있다는 곳.', 'en': \"Where there's an eyeopening tip.\"}), ('057wouLGW4I_000004_000006', {'ko': '또 얼마나 특별한 일이래요?', 'en': 'How special is it?'}), ('057wouLGW4I_000007_000011', {'ko': '우리 동네에 정말 신기하고 놀라운 염력을 쓰는 사람이 있어요.', 'en': \"There's someone in my neighborhood who uses amazing psychokinesis.\"}), ('057wouLGW4I_000011_000013', {'ko': '염력이요? 네, 염력.', 'en': 'Psychokinesis? Yes. Psychokinesis.'}), ('057wouLGW4I_000013_000017', {'ko': '아시죠. 물건 같은 거 막 날아다니고 하는 거.', 'en': 'You know. Things that fly around.'})]\n"
     ]
    }
   ],
   "source": [
    "import json\n",
    "\n",
    "with open('/home/ubuntu/workspace/221122_vmt_hyunbin/DEAR/data/ko_train.json', 'r', encoding='utf-8') as file:\n",
    "    data = json.load(file)\n",
    "\n",
    "print(list(data.items())[:5])"
   ]
  },
  {
   "cell_type": "code",
   "execution_count": null,
   "metadata": {},
   "outputs": [],
   "source": [
    "dct = {\n",
    "    \"client_id\": {\"0\": \"abc123\", \"1\": \"def456\"},\n",
    "    \"client_name\": {\"0\": \"companyA\", \"1\": \"companyB\"},\n",
    "    \"revenue\": {\"0\": \"54,786\", \"1\": \"62,754\"},\n",
    "    \"rate\": {\"0\": \"4\", \"1\": \"5\"},\n",
    "}\n",
    "\n",
    "tmp = {}\n",
    "for k, v in dct.items():\n",
    "    for kk, vv in v.items():\n",
    "        tmp.setdefault(kk, {}).update({k: vv})\n",
    "\n",
    "out = {}\n",
    "for i, v in enumerate(tmp.values(), 1):\n",
    "    out[f\"File{i}\"] = v\n",
    "\n",
    "print(out)"
   ]
  },
  {
   "cell_type": "code",
   "execution_count": 17,
   "metadata": {},
   "outputs": [],
   "source": [
    "import json\n",
    "\n",
    "with open('/data/VMT/action_label.json', 'r', encoding='utf-8') as file:\n",
    "    data = json.load(file)\n",
    "\n",
    "action_label = list(data.keys())"
   ]
  },
  {
   "cell_type": "code",
   "execution_count": 24,
   "metadata": {},
   "outputs": [
    {
     "name": "stdout",
     "output_type": "stream",
     "text": [
      "228682\n"
     ]
    }
   ],
   "source": [
    "print(len(action_label))"
   ]
  },
  {
   "cell_type": "code",
   "execution_count": 18,
   "metadata": {},
   "outputs": [],
   "source": [
    "import json\n",
    "\n",
    "with open('/data/VMT/full_data.json', 'r', encoding='utf-8') as file:\n",
    "    data = json.load(file)\n",
    "\n",
    "parallel = list(data.keys())"
   ]
  },
  {
   "cell_type": "code",
   "execution_count": 22,
   "metadata": {},
   "outputs": [
    {
     "data": {
      "text/plain": [
       "230761"
      ]
     },
     "execution_count": 22,
     "metadata": {},
     "output_type": "execute_result"
    }
   ],
   "source": [
    "len(parallel)"
   ]
  },
  {
   "cell_type": "code",
   "execution_count": 19,
   "metadata": {},
   "outputs": [],
   "source": [
    "import os\n",
    "\n",
    "dir_path = '/data/VMT/extracted_features'\n",
    "features = [entry[:-4] for entry in os.listdir(dir_path) if os.path.isfile(os.path.join(dir_path, entry))]"
   ]
  },
  {
   "cell_type": "code",
   "execution_count": 23,
   "metadata": {},
   "outputs": [
    {
     "data": {
      "text/plain": [
       "228800"
      ]
     },
     "execution_count": 23,
     "metadata": {},
     "output_type": "execute_result"
    }
   ],
   "source": [
    "len(features)"
   ]
  },
  {
   "cell_type": "code",
   "execution_count": 20,
   "metadata": {},
   "outputs": [],
   "source": [
    "action_features = []\n",
    "for i in action_label:\n",
    "    if i not in features:\n",
    "        action_features.append(i)"
   ]
  },
  {
   "cell_type": "code",
   "execution_count": 21,
   "metadata": {},
   "outputs": [
    {
     "data": {
      "text/plain": [
       "42"
      ]
     },
     "execution_count": 21,
     "metadata": {},
     "output_type": "execute_result"
    }
   ],
   "source": [
    "len(action_features)"
   ]
  },
  {
   "cell_type": "code",
   "execution_count": 25,
   "metadata": {},
   "outputs": [],
   "source": [
    "parallel_features = []\n",
    "for i in parallel:\n",
    "    if i not in features:\n",
    "        parallel_features.append(i)"
   ]
  },
  {
   "cell_type": "code",
   "execution_count": 26,
   "metadata": {},
   "outputs": [
    {
     "data": {
      "text/plain": [
       "1961"
      ]
     },
     "execution_count": 26,
     "metadata": {},
     "output_type": "execute_result"
    }
   ],
   "source": [
    "len(parallel_features)"
   ]
  },
  {
   "cell_type": "code",
   "execution_count": 27,
   "metadata": {},
   "outputs": [
    {
     "data": {
      "text/plain": [
       "228640"
      ]
     },
     "execution_count": 27,
     "metadata": {},
     "output_type": "execute_result"
    }
   ],
   "source": [
    "full = []\n",
    "for i in features:\n",
    "    if i in action_label and parallel:\n",
    "        full.append(i)\n",
    "len(full)"
   ]
  },
  {
   "cell_type": "code",
   "execution_count": 41,
   "metadata": {},
   "outputs": [
    {
     "name": "stdout",
     "output_type": "stream",
     "text": [
      "230761\n"
     ]
    },
    {
     "name": "stderr",
     "output_type": "stream",
     "text": [
      "100%|██████████| 230761/230761 [07:32<00:00, 509.54it/s]"
     ]
    },
    {
     "name": "stdout",
     "output_type": "stream",
     "text": [
      "2121\n"
     ]
    },
    {
     "name": "stderr",
     "output_type": "stream",
     "text": [
      "\n"
     ]
    }
   ],
   "source": [
    "import json\n",
    "from tqdm import tqdm\n",
    "\n",
    "with open('/home/ubuntu/workspace/221122_vmt_hyunbin/DEAR/data/kesvi.json', 'r', encoding='utf-8') as file:\n",
    "    data = json.load(file)\n",
    "    print(len(list(data.keys())))\n",
    "\n",
    "count = 0\n",
    "for i in tqdm(parallel):\n",
    "    if i not in full:\n",
    "        count+=1\n",
    "        del data[i]\n",
    "print(count)"
   ]
  },
  {
   "cell_type": "code",
   "execution_count": 42,
   "metadata": {},
   "outputs": [
    {
     "name": "stdout",
     "output_type": "stream",
     "text": [
      "228640\n"
     ]
    }
   ],
   "source": [
    "print(len(list(data.keys())))"
   ]
  },
  {
   "cell_type": "code",
   "execution_count": 44,
   "metadata": {},
   "outputs": [],
   "source": [
    "output_path = '/home/ubuntu/workspace/221122_vmt_hyunbin/DEAR/data/'\n",
    "with open(output_path+\"revised_kesvi.json\", \"w\", encoding='utf-8') as outfile:\n",
    "        json.dump(data, outfile, indent=2 , ensure_ascii=False)"
   ]
  },
  {
   "cell_type": "code",
   "execution_count": 46,
   "metadata": {},
   "outputs": [
    {
     "name": "stdout",
     "output_type": "stream",
     "text": [
      "228640\n"
     ]
    },
    {
     "name": "stderr",
     "output_type": "stream",
     "text": [
      "100%|██████████| 228682/228682 [07:42<00:00, 494.22it/s]"
     ]
    },
    {
     "name": "stdout",
     "output_type": "stream",
     "text": [
      "42\n"
     ]
    },
    {
     "name": "stderr",
     "output_type": "stream",
     "text": [
      "\n"
     ]
    }
   ],
   "source": [
    "import json\n",
    "from tqdm import tqdm\n",
    "\n",
    "with open('/home/ubuntu/workspace/221122_vmt_hyunbin/DEAR/data/kesvi_action_label.json', 'r', encoding='utf-8') as file:\n",
    "    data1 = json.load(file)\n",
    "    print(len(list(data.keys())))\n",
    "\n",
    "count = 0\n",
    "for i in tqdm(action_label):\n",
    "    if i not in full:\n",
    "        count+=1\n",
    "        del data1[i]\n",
    "print(count)"
   ]
  },
  {
   "cell_type": "code",
   "execution_count": 47,
   "metadata": {},
   "outputs": [
    {
     "name": "stdout",
     "output_type": "stream",
     "text": [
      "228640\n"
     ]
    }
   ],
   "source": [
    "print(len(list(data1.keys())))"
   ]
  },
  {
   "cell_type": "code",
   "execution_count": 48,
   "metadata": {},
   "outputs": [],
   "source": [
    "output_path = '/home/ubuntu/workspace/221122_vmt_hyunbin/DEAR/data/'\n",
    "with open(output_path+\"revised_kesvi_action_label.json\", \"w\", encoding='utf-8') as outfile:\n",
    "        json.dump(data1, outfile, indent=2 , ensure_ascii=False)"
   ]
  },
  {
   "cell_type": "code",
   "execution_count": 51,
   "metadata": {},
   "outputs": [
    {
     "name": "stderr",
     "output_type": "stream",
     "text": [
      "100%|██████████| 228800/228800 [07:43<00:00, 493.21it/s]"
     ]
    },
    {
     "name": "stdout",
     "output_type": "stream",
     "text": [
      "160\n"
     ]
    },
    {
     "name": "stderr",
     "output_type": "stream",
     "text": [
      "\n"
     ]
    }
   ],
   "source": [
    "import os\n",
    "import shutil\n",
    "from tqdm import tqdm\n",
    "\n",
    "os.mkdir('/data/VMT/missing_data')\n",
    "\n",
    "dir_path = '/data/VMT/extracted_features'\n",
    "new_path = '/data/VMT/missing_data'\n",
    "features = [entry[:-4] for entry in os.listdir(dir_path) if os.path.isfile(os.path.join(dir_path, entry))]\n",
    "\n",
    "count = 0\n",
    "for i in tqdm(features):\n",
    "    if i not in full:\n",
    "        shutil.move(dir_path+'/'+i+'.npy', new_path+'/'+i+'.npy')\n",
    "        count+=1\n",
    "print(count)"
   ]
  },
  {
   "cell_type": "code",
   "execution_count": 52,
   "metadata": {},
   "outputs": [
    {
     "data": {
      "text/plain": [
       "228640"
      ]
     },
     "execution_count": 52,
     "metadata": {},
     "output_type": "execute_result"
    }
   ],
   "source": [
    "import os\n",
    "\n",
    "dir_path = '/data/VMT/extracted_features'\n",
    "features = [entry[:-4] for entry in os.listdir(dir_path) if os.path.isfile(os.path.join(dir_path, entry))]\n",
    "len(features)"
   ]
  },
  {
   "cell_type": "code",
   "execution_count": 1,
   "metadata": {},
   "outputs": [],
   "source": [
    "import json\n",
    "\n",
    "with open('/home/ubuntu/workspace/221122_vmt_hyunbin/DEAR/data/revised_kesvi_action_label.json', 'r', encoding='utf-8') as file:\n",
    "    data = json.load(file)\n",
    "\n",
    "action = list(data.keys())"
   ]
  },
  {
   "cell_type": "code",
   "execution_count": 65,
   "metadata": {},
   "outputs": [],
   "source": [
    "import json\n",
    "\n",
    "with open('/home/ubuntu/workspace/221122_vmt_hyunbin/DEAR/data/revised_kesvi.json', 'r', encoding='utf-8') as file:\n",
    "    data = json.load(file)\n",
    "\n",
    "kesvi = list(data.keys())"
   ]
  },
  {
   "cell_type": "code",
   "execution_count": 63,
   "metadata": {},
   "outputs": [
    {
     "data": {
      "text/plain": [
       "True"
      ]
     },
     "execution_count": 63,
     "metadata": {},
     "output_type": "execute_result"
    }
   ],
   "source": [
    "action.sort() == kesvi.sort() == features.sort()"
   ]
  },
  {
   "cell_type": "code",
   "execution_count": 15,
   "metadata": {},
   "outputs": [],
   "source": [
    "import random\n",
    "\n",
    "d = {\"a\": 1, \"b\": 2, \"c\": 3, \"d\": 4}\n",
    "\n",
    "# This shuffling is not in-place\n",
    "l = list(d.items())\n",
    "random.shuffle(l)\n",
    "d_shuffled = dict(l)"
   ]
  },
  {
   "cell_type": "code",
   "execution_count": 69,
   "metadata": {},
   "outputs": [
    {
     "data": {
      "text/plain": [
       "228640"
      ]
     },
     "execution_count": 69,
     "metadata": {},
     "output_type": "execute_result"
    }
   ],
   "source": [
    "len(action)"
   ]
  },
  {
   "cell_type": "code",
   "execution_count": 83,
   "metadata": {},
   "outputs": [
    {
     "data": {
      "text/plain": [
       "182912.0"
      ]
     },
     "execution_count": 83,
     "metadata": {},
     "output_type": "execute_result"
    }
   ],
   "source": [
    "228640*0.8"
   ]
  },
  {
   "cell_type": "code",
   "execution_count": 82,
   "metadata": {},
   "outputs": [
    {
     "name": "stdout",
     "output_type": "stream",
     "text": [
      "182912 / 22864 / 22864\n"
     ]
    }
   ],
   "source": [
    "print(f'{len(train)} / {len(test)} / {len(val)}')"
   ]
  },
  {
   "cell_type": "code",
   "execution_count": 12,
   "metadata": {},
   "outputs": [],
   "source": [
    "train = action[:182912]\n",
    "test = action[182912:205776]\n",
    "val = action[205776:]"
   ]
  },
  {
   "cell_type": "code",
   "execution_count": 3,
   "metadata": {},
   "outputs": [
    {
     "data": {
      "text/plain": [
       "['ZAqEfrZkBfg_000033_000035', 'pHjKssgTbAU_000317_000319']"
      ]
     },
     "execution_count": 3,
     "metadata": {},
     "output_type": "execute_result"
    }
   ],
   "source": [
    "train[:2]"
   ]
  },
  {
   "cell_type": "code",
   "execution_count": 13,
   "metadata": {},
   "outputs": [],
   "source": [
    "with open('/home/ubuntu/workspace/221122_vmt_hyunbin/DEAR/data/revised_kesvi.json', 'r', encoding='utf-8') as file:\n",
    "    data = json.load(file)"
   ]
  },
  {
   "cell_type": "code",
   "execution_count": 14,
   "metadata": {},
   "outputs": [],
   "source": [
    "train_dict = {}\n",
    "\n",
    "for i in train:\n",
    "    train_dict[i] = data[i]\n",
    "\n",
    "output_path = '/home/ubuntu/workspace/221122_vmt_hyunbin/DEAR/'\n",
    "with open(output_path+\"train.json\", \"w\", encoding='utf-8') as outfile:\n",
    "        json.dump(train_dict, outfile, indent=2 , ensure_ascii=False)"
   ]
  },
  {
   "cell_type": "code",
   "execution_count": 15,
   "metadata": {},
   "outputs": [],
   "source": [
    "test_dict = {}\n",
    "\n",
    "for i in test:\n",
    "    test_dict[i] = data[i]\n",
    "\n",
    "output_path = '/home/ubuntu/workspace/221122_vmt_hyunbin/DEAR/'\n",
    "with open(output_path+\"test.json\", \"w\", encoding='utf-8') as outfile:\n",
    "        json.dump(test_dict, outfile, indent=2 , ensure_ascii=False)"
   ]
  },
  {
   "cell_type": "code",
   "execution_count": 16,
   "metadata": {},
   "outputs": [],
   "source": [
    "val_dict = {}\n",
    "\n",
    "for i in val:\n",
    "    val_dict[i] = data[i]\n",
    "\n",
    "output_path = '/home/ubuntu/workspace/221122_vmt_hyunbin/DEAR/'\n",
    "with open(output_path+\"val.json\", \"w\", encoding='utf-8') as outfile:\n",
    "        json.dump(val_dict, outfile, indent=2 , ensure_ascii=False)"
   ]
  },
  {
   "cell_type": "code",
   "execution_count": 5,
   "metadata": {},
   "outputs": [],
   "source": [
    "with open('/home/ubuntu/workspace/221122_vmt_hyunbin/DEAR/data/revised_kesvi.json', 'r', encoding='utf-8') as file:\n",
    "    data1 = json.load(file)"
   ]
  },
  {
   "cell_type": "code",
   "execution_count": 10,
   "metadata": {},
   "outputs": [],
   "source": [
    "train = {}\n"
   ]
  },
  {
   "cell_type": "code",
   "execution_count": 11,
   "metadata": {},
   "outputs": [
    {
     "data": {
      "text/plain": [
       "{'pHjKssgTbAU_000317_000319': {'ko': '고생 많으셨습니다.',\n",
       "  'en': \"You've been through a lot.\"}}"
      ]
     },
     "execution_count": 11,
     "metadata": {},
     "output_type": "execute_result"
    }
   ],
   "source": [
    "train"
   ]
  },
  {
   "cell_type": "code",
   "execution_count": 12,
   "metadata": {},
   "outputs": [],
   "source": [
    "import json\n",
    "with open('/home/ubuntu/workspace/221122_vmt_hyunbin/DEAR/data/kesvi_test.json', 'r', encoding='utf-8') as file:\n",
    "    data = json.load(file)"
   ]
  },
  {
   "cell_type": "code",
   "execution_count": 14,
   "metadata": {},
   "outputs": [
    {
     "data": {
      "text/plain": [
       "{'ko': '왜 댕댕이라 그래? 아니 아니.', 'en': 'Why do you call me a puppy? No. No.'}"
      ]
     },
     "execution_count": 14,
     "metadata": {},
     "output_type": "execute_result"
    }
   ],
   "source": [
    "data['qywJXf1G7y8_001117_001119']"
   ]
  },
  {
   "cell_type": "code",
   "execution_count": 6,
   "metadata": {},
   "outputs": [
    {
     "data": {
      "text/plain": [
       "\"If you touch it, it explodes and gets colored. See if you know and don't know.\""
      ]
     },
     "execution_count": 6,
     "metadata": {},
     "output_type": "execute_result"
    }
   ],
   "source": [
    "list(data.values())[1]['en']"
   ]
  },
  {
   "cell_type": "code",
   "execution_count": 7,
   "metadata": {},
   "outputs": [],
   "source": [
    "dict = {}\n",
    "for i in range(len(list(data.keys()))):\n",
    "    dict[list(data.keys())[i]] = list(data.values())[i]['en']"
   ]
  },
  {
   "cell_type": "code",
   "execution_count": 9,
   "metadata": {},
   "outputs": [],
   "source": [
    "def to_json(dict, output_path):\n",
    "    with open(output_path+\"original.json\", \"w\", encoding='utf-8') as outfile:\n",
    "        json.dump(dict, outfile, indent=2 , ensure_ascii=False)"
   ]
  },
  {
   "cell_type": "code",
   "execution_count": 11,
   "metadata": {},
   "outputs": [],
   "source": [
    "to_json(dict, '/home/ubuntu/workspace/221122_vmt_hyunbin/DEAR/results/trans_rhyer/')"
   ]
  },
  {
   "cell_type": "code",
   "execution_count": null,
   "metadata": {},
   "outputs": [],
   "source": []
  }
 ],
 "metadata": {
  "kernelspec": {
   "display_name": "221205_vmt_hyunbin",
   "language": "python",
   "name": "python3"
  },
  "language_info": {
   "codemirror_mode": {
    "name": "ipython",
    "version": 3
   },
   "file_extension": ".py",
   "mimetype": "text/x-python",
   "name": "python",
   "nbconvert_exporter": "python",
   "pygments_lexer": "ipython3",
   "version": "3.9.12"
  },
  "orig_nbformat": 4,
  "vscode": {
   "interpreter": {
    "hash": "0fa8264fc2f2ea0e3d2527076153441351d2c01dd5bc39eac1ad8428d28cb289"
   }
  }
 },
 "nbformat": 4,
 "nbformat_minor": 2
}
