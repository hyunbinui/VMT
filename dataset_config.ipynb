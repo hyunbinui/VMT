{
 "cells": [
  {
   "cell_type": "code",
   "execution_count": 63,
   "metadata": {},
   "outputs": [],
   "source": [
    "import webvtt\n",
    "import re\n",
    "\n",
    "full = []\n",
    "text = []\n",
    "\n",
    "#read ko sub file\n",
    "for caption in webvtt.read('/Users/twigfarm/dataset config/original subs/《BEST》 Remember 리멤버｜남궁민, 한보배 살인사건 전말 고백 \\'성폭행·환각\\' EP04 20151217-h8W4wTLvO2I.ko.vtt'):\n",
    "    #if the text requires preprocessing\n",
    "    caption.text=caption.text.strip().replace('\\n', ' ')\n",
    "\n",
    "    time_text_list=[]\n",
    "    time_text_list.append(caption.start[:-4])\n",
    "    time_text_list.append(caption.end[:-4])\n",
    "    # ko sub starts with '- '\n",
    "    time_text_list.append(caption.text.replace('- ', \"\"))\n",
    "    full.append(time_text_list)\n",
    "\n",
    "#read en sub file\n",
    "for caption2 in webvtt.read('/Users/twigfarm/dataset config/original subs/《BEST》 Remember 리멤버｜남궁민, 한보배 살인사건 전말 고백 \\'성폭행·환각\\' EP04 20151217-h8W4wTLvO2I.en.vtt'):\n",
    "    text.append(caption2.text)\n",
    "\n"
   ]
  },
  {
   "cell_type": "code",
   "execution_count": 45,
   "metadata": {},
   "outputs": [
    {
     "data": {
      "text/plain": [
       "True"
      ]
     },
     "execution_count": 45,
     "metadata": {},
     "output_type": "execute_result"
    }
   ],
   "source": [
    "# 한글 자막과 영문 자막 싱크가 어긋나있는 영상인지 확인\n",
    "len(full) == len(text)"
   ]
  },
  {
   "cell_type": "code",
   "execution_count": 44,
   "metadata": {},
   "outputs": [],
   "source": [
    "#concat full and text list\n",
    "for f in range(len(full)):\n",
    "    full[f].append(text[f])\n",
    "\n",
    "#make video name\n",
    "for i in range(len(full)):\n",
    "    vid_name = \"h8W4wTLvO2I\"+\"_\"+full[i][0].replace(\":\",\"\")+'_'+full[i][1].replace(\":\",\"\")\n",
    "    full[i].append(vid_name)\n"
   ]
  },
  {
   "cell_type": "code",
   "execution_count": 26,
   "metadata": {},
   "outputs": [],
   "source": [
    "# pip install moviepy"
   ]
  },
  {
   "cell_type": "code",
   "execution_count": 59,
   "metadata": {},
   "outputs": [
    {
     "name": "stderr",
     "output_type": "stream",
     "text": [
      "t:   1%|▏         | 2/150 [02:09<2:39:34, 64.69s/it, now=None]"
     ]
    },
    {
     "name": "stdout",
     "output_type": "stream",
     "text": [
      "Moviepy - Building video ./videos/TycIYgaDdC4_000011_000014.mp4.\n",
      "MoviePy - Writing audio in TycIYgaDdC4_000011_000014TEMP_MPY_wvf_snd.mp3\n"
     ]
    },
    {
     "name": "stderr",
     "output_type": "stream",
     "text": [
      "t:   1%|▏         | 2/150 [02:09<2:39:40, 64.74s/it, now=None]"
     ]
    },
    {
     "name": "stdout",
     "output_type": "stream",
     "text": [
      "MoviePy - Done.\n",
      "Moviepy - Writing video ./videos/TycIYgaDdC4_000011_000014.mp4\n",
      "\n"
     ]
    },
    {
     "name": "stderr",
     "output_type": "stream",
     "text": [
      "t:   1%|▏         | 2/150 [02:11<2:42:02, 65.69s/it, now=None]"
     ]
    },
    {
     "name": "stdout",
     "output_type": "stream",
     "text": [
      "Moviepy - Done !\n",
      "Moviepy - video ready ./videos/TycIYgaDdC4_000011_000014.mp4\n"
     ]
    },
    {
     "name": "stderr",
     "output_type": "stream",
     "text": [
      "t:   1%|▏         | 2/150 [02:11<2:42:36, 65.92s/it, now=None]"
     ]
    },
    {
     "name": "stdout",
     "output_type": "stream",
     "text": [
      "Moviepy - Building video ./videos/TycIYgaDdC4_000014_000019.mp4.\n",
      "MoviePy - Writing audio in TycIYgaDdC4_000014_000019TEMP_MPY_wvf_snd.mp3\n"
     ]
    },
    {
     "name": "stderr",
     "output_type": "stream",
     "text": [
      "t:   1%|▏         | 2/150 [02:11<2:42:46, 65.99s/it, now=None]"
     ]
    },
    {
     "name": "stdout",
     "output_type": "stream",
     "text": [
      "MoviePy - Done.\n",
      "Moviepy - Writing video ./videos/TycIYgaDdC4_000014_000019.mp4\n",
      "\n"
     ]
    },
    {
     "name": "stderr",
     "output_type": "stream",
     "text": [
      "t:   1%|▏         | 2/150 [02:14<2:46:23, 67.46s/it, now=None]"
     ]
    },
    {
     "name": "stdout",
     "output_type": "stream",
     "text": [
      "Moviepy - Done !\n",
      "Moviepy - video ready ./videos/TycIYgaDdC4_000014_000019.mp4\n"
     ]
    },
    {
     "name": "stderr",
     "output_type": "stream",
     "text": [
      "t:   1%|▏         | 2/150 [02:15<2:46:55, 67.67s/it, now=None]"
     ]
    },
    {
     "name": "stdout",
     "output_type": "stream",
     "text": [
      "Moviepy - Building video ./videos/TycIYgaDdC4_000038_000040.mp4.\n",
      "MoviePy - Writing audio in TycIYgaDdC4_000038_000040TEMP_MPY_wvf_snd.mp3\n"
     ]
    },
    {
     "name": "stderr",
     "output_type": "stream",
     "text": [
      "t:   1%|▏         | 2/150 [02:15<2:47:03, 67.73s/it, now=None]"
     ]
    },
    {
     "name": "stdout",
     "output_type": "stream",
     "text": [
      "MoviePy - Done.\n",
      "Moviepy - Writing video ./videos/TycIYgaDdC4_000038_000040.mp4\n",
      "\n"
     ]
    },
    {
     "name": "stderr",
     "output_type": "stream",
     "text": [
      "t:   1%|▏         | 2/150 [02:16<2:48:54, 68.48s/it, now=None]"
     ]
    },
    {
     "name": "stdout",
     "output_type": "stream",
     "text": [
      "Moviepy - Done !\n",
      "Moviepy - video ready ./videos/TycIYgaDdC4_000038_000040.mp4\n"
     ]
    },
    {
     "name": "stderr",
     "output_type": "stream",
     "text": [
      "t:   1%|▏         | 2/150 [02:17<2:49:26, 68.69s/it, now=None]"
     ]
    },
    {
     "name": "stdout",
     "output_type": "stream",
     "text": [
      "Moviepy - Building video ./videos/TycIYgaDdC4_000040_000044.mp4.\n",
      "MoviePy - Writing audio in TycIYgaDdC4_000040_000044TEMP_MPY_wvf_snd.mp3\n"
     ]
    },
    {
     "name": "stderr",
     "output_type": "stream",
     "text": [
      "t:   1%|▏         | 2/150 [02:17<2:49:36, 68.76s/it, now=None]"
     ]
    },
    {
     "name": "stdout",
     "output_type": "stream",
     "text": [
      "MoviePy - Done.\n",
      "Moviepy - Writing video ./videos/TycIYgaDdC4_000040_000044.mp4\n",
      "\n"
     ]
    },
    {
     "name": "stderr",
     "output_type": "stream",
     "text": [
      "t:   1%|▏         | 2/150 [02:20<2:52:44, 70.03s/it, now=None]"
     ]
    },
    {
     "name": "stdout",
     "output_type": "stream",
     "text": [
      "Moviepy - Done !\n",
      "Moviepy - video ready ./videos/TycIYgaDdC4_000040_000044.mp4\n"
     ]
    },
    {
     "name": "stderr",
     "output_type": "stream",
     "text": [
      "t:   1%|▏         | 2/150 [02:20<2:53:18, 70.26s/it, now=None]"
     ]
    },
    {
     "name": "stdout",
     "output_type": "stream",
     "text": [
      "Moviepy - Building video ./videos/TycIYgaDdC4_000044_000046.mp4.\n",
      "MoviePy - Writing audio in TycIYgaDdC4_000044_000046TEMP_MPY_wvf_snd.mp3\n"
     ]
    },
    {
     "name": "stderr",
     "output_type": "stream",
     "text": [
      "t:   1%|▏         | 2/150 [02:20<2:53:26, 70.32s/it, now=None]"
     ]
    },
    {
     "name": "stdout",
     "output_type": "stream",
     "text": [
      "MoviePy - Done.\n",
      "Moviepy - Writing video ./videos/TycIYgaDdC4_000044_000046.mp4\n",
      "\n"
     ]
    },
    {
     "name": "stderr",
     "output_type": "stream",
     "text": [
      "t:   1%|▏         | 2/150 [02:22<2:55:19, 71.08s/it, now=None]"
     ]
    },
    {
     "name": "stdout",
     "output_type": "stream",
     "text": [
      "Moviepy - Done !\n",
      "Moviepy - video ready ./videos/TycIYgaDdC4_000044_000046.mp4\n"
     ]
    },
    {
     "name": "stderr",
     "output_type": "stream",
     "text": [
      "t:   1%|▏         | 2/150 [02:22<2:55:53, 71.31s/it, now=None]"
     ]
    },
    {
     "name": "stdout",
     "output_type": "stream",
     "text": [
      "Moviepy - Building video ./videos/TycIYgaDdC4_000046_000050.mp4.\n",
      "MoviePy - Writing audio in TycIYgaDdC4_000046_000050TEMP_MPY_wvf_snd.mp3\n"
     ]
    },
    {
     "name": "stderr",
     "output_type": "stream",
     "text": [
      "t:   1%|▏         | 2/150 [02:22<2:56:05, 71.39s/it, now=None]"
     ]
    },
    {
     "name": "stdout",
     "output_type": "stream",
     "text": [
      "MoviePy - Done.\n",
      "Moviepy - Writing video ./videos/TycIYgaDdC4_000046_000050.mp4\n",
      "\n"
     ]
    },
    {
     "name": "stderr",
     "output_type": "stream",
     "text": [
      "t:   1%|▏         | 2/150 [02:25<2:59:20, 72.71s/it, now=None]"
     ]
    },
    {
     "name": "stdout",
     "output_type": "stream",
     "text": [
      "Moviepy - Done !\n",
      "Moviepy - video ready ./videos/TycIYgaDdC4_000046_000050.mp4\n"
     ]
    },
    {
     "name": "stderr",
     "output_type": "stream",
     "text": [
      "t:   1%|▏         | 2/150 [02:25<2:59:53, 72.93s/it, now=None]"
     ]
    },
    {
     "name": "stdout",
     "output_type": "stream",
     "text": [
      "Moviepy - Building video ./videos/TycIYgaDdC4_000056_000059.mp4.\n",
      "MoviePy - Writing audio in TycIYgaDdC4_000056_000059TEMP_MPY_wvf_snd.mp3\n"
     ]
    },
    {
     "name": "stderr",
     "output_type": "stream",
     "text": [
      "t:   1%|▏         | 2/150 [02:25<3:00:03, 73.00s/it, now=None]"
     ]
    },
    {
     "name": "stdout",
     "output_type": "stream",
     "text": [
      "MoviePy - Done.\n",
      "Moviepy - Writing video ./videos/TycIYgaDdC4_000056_000059.mp4\n",
      "\n"
     ]
    },
    {
     "name": "stderr",
     "output_type": "stream",
     "text": [
      "t:   1%|▏         | 2/150 [02:28<3:02:54, 74.15s/it, now=None]"
     ]
    },
    {
     "name": "stdout",
     "output_type": "stream",
     "text": [
      "Moviepy - Done !\n",
      "Moviepy - video ready ./videos/TycIYgaDdC4_000056_000059.mp4\n"
     ]
    },
    {
     "name": "stderr",
     "output_type": "stream",
     "text": [
      "t:   1%|▏         | 2/150 [02:28<3:03:29, 74.39s/it, now=None]"
     ]
    },
    {
     "name": "stdout",
     "output_type": "stream",
     "text": [
      "Moviepy - Building video ./videos/TycIYgaDdC4_000100_000103.mp4.\n",
      "MoviePy - Writing audio in TycIYgaDdC4_000100_000103TEMP_MPY_wvf_snd.mp3\n"
     ]
    },
    {
     "name": "stderr",
     "output_type": "stream",
     "text": [
      "t:   1%|▏         | 2/150 [02:28<3:03:39, 74.46s/it, now=None]"
     ]
    },
    {
     "name": "stdout",
     "output_type": "stream",
     "text": [
      "MoviePy - Done.\n",
      "Moviepy - Writing video ./videos/TycIYgaDdC4_000100_000103.mp4\n",
      "\n"
     ]
    },
    {
     "name": "stderr",
     "output_type": "stream",
     "text": [
      "t:   1%|▏         | 2/150 [02:30<3:05:49, 75.33s/it, now=None]"
     ]
    },
    {
     "name": "stdout",
     "output_type": "stream",
     "text": [
      "Moviepy - Done !\n",
      "Moviepy - video ready ./videos/TycIYgaDdC4_000100_000103.mp4\n"
     ]
    },
    {
     "name": "stderr",
     "output_type": "stream",
     "text": [
      "t:   1%|▏         | 2/150 [02:31<3:06:21, 75.55s/it, now=None]"
     ]
    },
    {
     "name": "stdout",
     "output_type": "stream",
     "text": [
      "Moviepy - Building video ./videos/TycIYgaDdC4_000103_000108.mp4.\n",
      "MoviePy - Writing audio in TycIYgaDdC4_000103_000108TEMP_MPY_wvf_snd.mp3\n"
     ]
    },
    {
     "name": "stderr",
     "output_type": "stream",
     "text": [
      "t:   1%|▏         | 2/150 [02:31<3:06:34, 75.64s/it, now=None]"
     ]
    },
    {
     "name": "stdout",
     "output_type": "stream",
     "text": [
      "MoviePy - Done.\n",
      "Moviepy - Writing video ./videos/TycIYgaDdC4_000103_000108.mp4\n",
      "\n"
     ]
    },
    {
     "name": "stderr",
     "output_type": "stream",
     "text": [
      "t:   1%|▏         | 2/150 [02:34<3:10:49, 77.36s/it, now=None]"
     ]
    },
    {
     "name": "stdout",
     "output_type": "stream",
     "text": [
      "Moviepy - Done !\n",
      "Moviepy - video ready ./videos/TycIYgaDdC4_000103_000108.mp4\n"
     ]
    },
    {
     "name": "stderr",
     "output_type": "stream",
     "text": [
      "t:   1%|▏         | 2/150 [02:35<3:11:23, 77.59s/it, now=None]"
     ]
    },
    {
     "name": "stdout",
     "output_type": "stream",
     "text": [
      "Moviepy - Building video ./videos/TycIYgaDdC4_000142_000147.mp4.\n",
      "MoviePy - Writing audio in TycIYgaDdC4_000142_000147TEMP_MPY_wvf_snd.mp3\n"
     ]
    },
    {
     "name": "stderr",
     "output_type": "stream",
     "text": [
      "t:   1%|▏         | 2/150 [02:35<3:11:36, 77.68s/it, now=None]"
     ]
    },
    {
     "name": "stdout",
     "output_type": "stream",
     "text": [
      "MoviePy - Done.\n",
      "Moviepy - Writing video ./videos/TycIYgaDdC4_000142_000147.mp4\n",
      "\n"
     ]
    },
    {
     "name": "stderr",
     "output_type": "stream",
     "text": [
      "t:   1%|▏         | 2/150 [02:39<3:16:15, 79.56s/it, now=None]"
     ]
    },
    {
     "name": "stdout",
     "output_type": "stream",
     "text": [
      "Moviepy - Done !\n",
      "Moviepy - video ready ./videos/TycIYgaDdC4_000142_000147.mp4\n"
     ]
    },
    {
     "name": "stderr",
     "output_type": "stream",
     "text": [
      "t:   1%|▏         | 2/150 [02:39<3:16:56, 79.84s/it, now=None]"
     ]
    },
    {
     "name": "stdout",
     "output_type": "stream",
     "text": [
      "Moviepy - Building video ./videos/TycIYgaDdC4_000147_000152.mp4.\n",
      "MoviePy - Writing audio in TycIYgaDdC4_000147_000152TEMP_MPY_wvf_snd.mp3\n"
     ]
    },
    {
     "name": "stderr",
     "output_type": "stream",
     "text": [
      "t:   1%|▏         | 2/150 [02:39<3:17:09, 79.93s/it, now=None]"
     ]
    },
    {
     "name": "stdout",
     "output_type": "stream",
     "text": [
      "MoviePy - Done.\n",
      "Moviepy - Writing video ./videos/TycIYgaDdC4_000147_000152.mp4\n",
      "\n"
     ]
    },
    {
     "name": "stderr",
     "output_type": "stream",
     "text": [
      "t:   1%|▏         | 2/150 [02:42<3:20:44, 81.38s/it, now=None]"
     ]
    },
    {
     "name": "stdout",
     "output_type": "stream",
     "text": [
      "Moviepy - Done !\n",
      "Moviepy - video ready ./videos/TycIYgaDdC4_000147_000152.mp4\n"
     ]
    },
    {
     "name": "stderr",
     "output_type": "stream",
     "text": [
      "t:   1%|▏         | 2/150 [02:43<3:21:17, 81.60s/it, now=None]"
     ]
    },
    {
     "name": "stdout",
     "output_type": "stream",
     "text": [
      "Moviepy - Building video ./videos/TycIYgaDdC4_000246_000251.mp4.\n",
      "MoviePy - Writing audio in TycIYgaDdC4_000246_000251TEMP_MPY_wvf_snd.mp3\n"
     ]
    },
    {
     "name": "stderr",
     "output_type": "stream",
     "text": [
      "t:   1%|▏         | 2/150 [02:43<3:21:30, 81.69s/it, now=None]"
     ]
    },
    {
     "name": "stdout",
     "output_type": "stream",
     "text": [
      "MoviePy - Done.\n",
      "Moviepy - Writing video ./videos/TycIYgaDdC4_000246_000251.mp4\n",
      "\n"
     ]
    },
    {
     "name": "stderr",
     "output_type": "stream",
     "text": [
      "t:   1%|▏         | 2/150 [02:46<3:25:23, 83.27s/it, now=None]"
     ]
    },
    {
     "name": "stdout",
     "output_type": "stream",
     "text": [
      "Moviepy - Done !\n",
      "Moviepy - video ready ./videos/TycIYgaDdC4_000246_000251.mp4\n"
     ]
    },
    {
     "name": "stderr",
     "output_type": "stream",
     "text": [
      "t:   1%|▏         | 2/150 [02:47<3:26:06, 83.56s/it, now=None]"
     ]
    },
    {
     "name": "stdout",
     "output_type": "stream",
     "text": [
      "Moviepy - Building video ./videos/TycIYgaDdC4_000251_000253.mp4.\n",
      "MoviePy - Writing audio in TycIYgaDdC4_000251_000253TEMP_MPY_wvf_snd.mp3\n"
     ]
    },
    {
     "name": "stderr",
     "output_type": "stream",
     "text": [
      "t:   1%|▏         | 2/150 [02:47<3:26:16, 83.63s/it, now=None]"
     ]
    },
    {
     "name": "stdout",
     "output_type": "stream",
     "text": [
      "MoviePy - Done.\n",
      "Moviepy - Writing video ./videos/TycIYgaDdC4_000251_000253.mp4\n",
      "\n"
     ]
    },
    {
     "name": "stderr",
     "output_type": "stream",
     "text": [
      "t:   1%|▏         | 2/150 [02:48<3:27:52, 84.27s/it, now=None]"
     ]
    },
    {
     "name": "stdout",
     "output_type": "stream",
     "text": [
      "Moviepy - Done !\n",
      "Moviepy - video ready ./videos/TycIYgaDdC4_000251_000253.mp4\n"
     ]
    },
    {
     "name": "stderr",
     "output_type": "stream",
     "text": [
      "t:   1%|▏         | 2/150 [02:49<3:28:30, 84.53s/it, now=None]"
     ]
    },
    {
     "name": "stdout",
     "output_type": "stream",
     "text": [
      "Moviepy - Building video ./videos/TycIYgaDdC4_000259_000304.mp4.\n",
      "MoviePy - Writing audio in TycIYgaDdC4_000259_000304TEMP_MPY_wvf_snd.mp3\n"
     ]
    },
    {
     "name": "stderr",
     "output_type": "stream",
     "text": [
      "t:   1%|▏         | 2/150 [02:49<3:28:44, 84.63s/it, now=None]"
     ]
    },
    {
     "name": "stdout",
     "output_type": "stream",
     "text": [
      "MoviePy - Done.\n",
      "Moviepy - Writing video ./videos/TycIYgaDdC4_000259_000304.mp4\n",
      "\n"
     ]
    },
    {
     "name": "stderr",
     "output_type": "stream",
     "text": [
      "t:   1%|▏         | 2/150 [02:52<3:32:49, 86.28s/it, now=None]"
     ]
    },
    {
     "name": "stdout",
     "output_type": "stream",
     "text": [
      "Moviepy - Done !\n",
      "Moviepy - video ready ./videos/TycIYgaDdC4_000259_000304.mp4\n"
     ]
    }
   ],
   "source": [
    "from moviepy.video.io.VideoFileClip import VideoFileClip\n",
    "import os\n",
    "\n",
    "# make directory for video clips\n",
    "if not os.path.exists('./videos'):\n",
    "    os.makedirs('./videos')\n",
    "    \n",
    "#Get Seconds from time.\n",
    "def get_sec(time_str):\n",
    "    h, m, s = time_str.split(':')\n",
    "    return int(h) * 3600 + int(m) * 60 + int(s)\n",
    "\n",
    "for f in range(len(full)):\n",
    "    input_video_path = '/Users/twigfarm/dataset config/《BEST》 Remember 리멤버｜남궁민, 한보배 살인사건 전말 고백 \\'성폭행·환각\\' EP04 20151217-h8W4wTLvO2I.mp4'\n",
    "    output_video_path = './videos/'+full[f][-1]+'.mp4'\n",
    "    start = full[f][0]\n",
    "    start = get_sec(start)\n",
    "    end = full[f][1]\n",
    "    end = get_sec(end)\n",
    "\n",
    "\n",
    "    with VideoFileClip(input_video_path) as video:\n",
    "        new = video.subclip(start, end)\n",
    "        new.write_videofile(output_video_path, codec='libx264')"
   ]
  },
  {
   "cell_type": "code",
   "execution_count": 60,
   "metadata": {},
   "outputs": [],
   "source": [
    "# create dictionary with (video id - ko sub - eng sub) pair\n",
    "Dict = {}\n",
    "for f in full:\n",
    "     Dict[f[-1]] = {}\n",
    "     Dict[f[-1]]['ko'] = f[2]\n",
    "     Dict[f[-1]]['en'] = f[3]"
   ]
  },
  {
   "cell_type": "code",
   "execution_count": 61,
   "metadata": {},
   "outputs": [],
   "source": [
    "# create json file\n",
    "import json\n",
    "    \n",
    "with open(\"sample.json\", \"w\") as outfile:\n",
    "    json.dump(Dict, outfile)"
   ]
  }
 ],
 "metadata": {
  "kernelspec": {
   "display_name": "Python 3.9.12 ('base')",
   "language": "python",
   "name": "python3"
  },
  "language_info": {
   "codemirror_mode": {
    "name": "ipython",
    "version": 3
   },
   "file_extension": ".py",
   "mimetype": "text/x-python",
   "name": "python",
   "nbconvert_exporter": "python",
   "pygments_lexer": "ipython3",
   "version": "3.9.12"
  },
  "orig_nbformat": 4,
  "vscode": {
   "interpreter": {
    "hash": "555fd2af09ecad53e902f9f841b8dc0c34cdebaa624370c5de6e796f8cf6171a"
   }
  }
 },
 "nbformat": 4,
 "nbformat_minor": 2
}
